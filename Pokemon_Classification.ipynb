{
  "nbformat": 4,
  "nbformat_minor": 0,
  "metadata": {
    "colab": {
      "provenance": [],
      "authorship_tag": "ABX9TyM8tlsO2VGGrwG2O/MLUioB",
      "include_colab_link": true
    },
    "kernelspec": {
      "name": "python3",
      "display_name": "Python 3"
    },
    "language_info": {
      "name": "python"
    }
  },
  "cells": [
    {
      "cell_type": "markdown",
      "metadata": {
        "id": "view-in-github",
        "colab_type": "text"
      },
      "source": [
        "<a href=\"https://colab.research.google.com/github/aarushi-shanker/pokemon-classification/blob/main/Pokemon_Classification.ipynb\" target=\"_parent\"><img src=\"https://colab.research.google.com/assets/colab-badge.svg\" alt=\"Open In Colab\"/></a>"
      ]
    },
    {
      "cell_type": "code",
      "source": [
        "import numpy as np\n",
        "import pandas as pd\n",
        "import matplotlib.pyplot as plt\n",
        "import os"
      ],
      "metadata": {
        "id": "hD_NMVbOm9LK"
      },
      "execution_count": 1,
      "outputs": []
    },
    {
      "cell_type": "code",
      "source": [
        "!unzip PokemonDataset.zip -d \"images/\""
      ],
      "metadata": {
        "colab": {
          "base_uri": "https://localhost:8080/"
        },
        "id": "QyTd1p_G6zL-",
        "outputId": "a7b2e8a1-c255-4711-cfd4-00092168617a"
      },
      "execution_count": 3,
      "outputs": [
        {
          "output_type": "stream",
          "name": "stdout",
          "text": [
            "Archive:  PokemonDataset.zip\n",
            "warning:  stripped absolute path spec from /\n",
            "mapname:  conversion of  failed\n",
            "   creating: images/Test/\n",
            "   creating: images/Train/\n",
            "   creating: images/Test/Pikachu/\n",
            "   creating: images/Train/Pikachu/\n",
            "   creating: images/Test/Bulbasaur/\n",
            "   creating: images/Train/Bulbasaur/\n",
            "   creating: images/Test/Charmander/\n",
            "   creating: images/Train/Charmander/\n",
            " extracting: images/Train/Pikachu/345.jpg  \n",
            " extracting: images/Train/Pikachu/335.jpg  \n",
            " extracting: images/Train/Pikachu/299.jpg  \n",
            " extracting: images/Train/Pikachu/396.jpg  \n",
            " extracting: images/Train/Pikachu/350.jpg  \n",
            " extracting: images/Train/Pikachu/308.jpg  \n",
            " extracting: images/Train/Pikachu/346.jpg  \n",
            " extracting: images/Train/Pikachu/355.jpg  \n",
            " extracting: images/Train/Pikachu/353.jpg  \n",
            " extracting: images/Train/Pikachu/390.jpg  \n",
            " extracting: images/Train/Pikachu/319.jpg  \n",
            " extracting: images/Train/Pikachu/386.jpg  \n",
            " extracting: images/Train/Pikachu/327.jpg  \n",
            " extracting: images/Train/Pikachu/314.jpg  \n",
            " extracting: images/Train/Pikachu/303.jpg  \n",
            " extracting: images/Train/Pikachu/341.jpg  \n",
            " extracting: images/Train/Pikachu/298.jpg  \n",
            " extracting: images/Train/Pikachu/389.jpg  \n",
            " extracting: images/Train/Pikachu/382.jpg  \n",
            " extracting: images/Train/Pikachu/306.jpg  \n",
            " extracting: images/Train/Pikachu/361.jpg  \n",
            " extracting: images/Train/Pikachu/362.jpg  \n",
            " extracting: images/Train/Pikachu/372.jpg  \n",
            " extracting: images/Train/Pikachu/312.jpg  \n",
            " extracting: images/Train/Pikachu/384.jpg  \n",
            " extracting: images/Train/Pikachu/373.jpg  \n",
            " extracting: images/Train/Pikachu/352.jpg  \n",
            " extracting: images/Train/Pikachu/368.jpg  \n",
            " extracting: images/Train/Pikachu/307.jpg  \n",
            " extracting: images/Train/Pikachu/343.jpg  \n",
            " extracting: images/Train/Pikachu/310.jpg  \n",
            " extracting: images/Train/Pikachu/363.jpg  \n",
            " extracting: images/Train/Pikachu/320.jpg  \n",
            " extracting: images/Train/Pikachu/336.jpg  \n",
            " extracting: images/Train/Pikachu/394.jpg  \n",
            " extracting: images/Train/Pikachu/380.jpg  \n",
            " extracting: images/Train/Pikachu/317.jpg  \n",
            " extracting: images/Train/Pikachu/381.jpg  \n",
            " extracting: images/Train/Pikachu/322.jpg  \n",
            " extracting: images/Train/Pikachu/379.jpg  \n",
            " extracting: images/Train/Pikachu/315.jpg  \n",
            " extracting: images/Train/Pikachu/369.jpg  \n",
            " extracting: images/Train/Pikachu/330.jpg  \n",
            " extracting: images/Train/Pikachu/357.jpg  \n",
            " extracting: images/Train/Pikachu/383.jpg  \n",
            " extracting: images/Train/Pikachu/323.jpg  \n",
            " extracting: images/Train/Pikachu/364.jpg  \n",
            " extracting: images/Train/Pikachu/296.jpg  \n",
            " extracting: images/Train/Pikachu/356.jpg  \n",
            " extracting: images/Train/Pikachu/311.jpg  \n",
            " extracting: images/Train/Pikachu/385.jpg  \n",
            " extracting: images/Train/Pikachu/378.jpg  \n",
            " extracting: images/Train/Pikachu/338.jpg  \n",
            " extracting: images/Train/Pikachu/318.jpg  \n",
            " extracting: images/Train/Pikachu/321.jpg  \n",
            " extracting: images/Train/Pikachu/393.jpg  \n",
            " extracting: images/Train/Pikachu/304.jpg  \n",
            " extracting: images/Train/Pikachu/333.jpg  \n",
            " extracting: images/Train/Pikachu/354.jpg  \n",
            " extracting: images/Train/Pikachu/339.jpg  \n",
            " extracting: images/Train/Pikachu/316.jpg  \n",
            " extracting: images/Train/Pikachu/387.jpg  \n",
            " extracting: images/Train/Pikachu/334.jpg  \n",
            " extracting: images/Train/Pikachu/377.jpg  \n",
            " extracting: images/Train/Pikachu/300.jpg  \n",
            " extracting: images/Train/Pikachu/297.jpg  \n",
            " extracting: images/Train/Pikachu/342.jpg  \n",
            " extracting: images/Train/Pikachu/351.jpg  \n",
            " extracting: images/Train/Pikachu/365.jpg  \n",
            " extracting: images/Train/Pikachu/371.jpg  \n",
            " extracting: images/Train/Pikachu/324.jpg  \n",
            " extracting: images/Train/Pikachu/313.jpg  \n",
            " extracting: images/Train/Pikachu/344.jpg  \n",
            " extracting: images/Train/Pikachu/360.jpg  \n",
            " extracting: images/Train/Pikachu/340.jpg  \n",
            " extracting: images/Train/Pikachu/366.jpg  \n",
            " extracting: images/Train/Pikachu/325.jpg  \n",
            " extracting: images/Train/Pikachu/332.jpg  \n",
            " extracting: images/Train/Pikachu/358.jpg  \n",
            " extracting: images/Train/Pikachu/326.jpg  \n",
            " extracting: images/Train/Pikachu/375.jpg  \n",
            " extracting: images/Train/Pikachu/331.jpg  \n",
            " extracting: images/Train/Pikachu/391.jpg  \n",
            " extracting: images/Train/Pikachu/302.jpg  \n",
            " extracting: images/Train/Pikachu/374.jpg  \n",
            " extracting: images/Train/Pikachu/347.jpg  \n",
            " extracting: images/Train/Pikachu/370.jpg  \n",
            " extracting: images/Train/Pikachu/329.jpg  \n",
            " extracting: images/Train/Pikachu/305.jpg  \n",
            " extracting: images/Train/Pikachu/337.jpg  \n",
            " extracting: images/Train/Pikachu/367.jpg  \n",
            " extracting: images/Train/Pikachu/349.jpg  \n",
            " extracting: images/Train/Pikachu/395.jpg  \n",
            " extracting: images/Train/Pikachu/309.jpg  \n",
            " extracting: images/Train/Pikachu/301.jpg  \n",
            " extracting: images/Train/Pikachu/359.jpg  \n",
            " extracting: images/Train/Pikachu/328.jpg  \n",
            " extracting: images/Train/Pikachu/376.jpg  \n",
            " extracting: images/Train/Pikachu/392.jpg  \n",
            " extracting: images/Train/Pikachu/388.jpg  \n",
            " extracting: images/Train/Pikachu/348.jpg  \n",
            " extracting: images/Test/Pikachu/2000.jpg  \n",
            " extracting: images/Test/Pikachu/2001.jpg  \n",
            " extracting: images/Test/Pikachu/2002.jpg  \n",
            " extracting: images/Test/Pikachu/2003.jpg  \n",
            " extracting: images/Test/Pikachu/2004.jpg  \n",
            " extracting: images/Test/Pikachu/2005.jpg  \n",
            " extracting: images/Test/Pikachu/2006.jpg  \n",
            " extracting: images/Test/Pikachu/2007.jpg  \n",
            " extracting: images/Test/Pikachu/2008.jpg  \n",
            " extracting: images/Test/Pikachu/2009.jpg  \n",
            " extracting: images/Test/Pikachu/2010.jpg  \n",
            " extracting: images/Test/Pikachu/2011.jpg  \n",
            " extracting: images/Test/Pikachu/2012.jpg  \n",
            " extracting: images/Test/Pikachu/2013.jpg  \n",
            " extracting: images/Test/Pikachu/2014.jpg  \n",
            " extracting: images/Test/Pikachu/2015.jpg  \n",
            " extracting: images/Test/Pikachu/2016.jpg  \n",
            " extracting: images/Test/Pikachu/2017.jpg  \n",
            " extracting: images/Test/Pikachu/2018.jpg  \n",
            " extracting: images/Test/Pikachu/2019.jpg  \n",
            " extracting: images/Test/Pikachu/2020.jpg  \n",
            " extracting: images/Test/Pikachu/2021.jpg  \n",
            " extracting: images/Test/Pikachu/2022.jpg  \n",
            " extracting: images/Test/Pikachu/2023.jpg  \n",
            " extracting: images/Test/Pikachu/2024.jpg  \n",
            " extracting: images/Test/Pikachu/2025.jpg  \n",
            " extracting: images/Test/Pikachu/2026.jpg  \n",
            " extracting: images/Test/Pikachu/2027.jpg  \n",
            " extracting: images/Test/Pikachu/2028.jpg  \n",
            " extracting: images/Test/Pikachu/2029.jpg  \n",
            " extracting: images/Test/Pikachu/2030.jpg  \n",
            " extracting: images/Test/Pikachu/2031.jpg  \n",
            " extracting: images/Test/Pikachu/2032.jpg  \n",
            " extracting: images/Test/Pikachu/2033.jpg  \n",
            " extracting: images/Test/Pikachu/2034.jpg  \n",
            " extracting: images/Test/Pikachu/2035.jpg  \n",
            " extracting: images/Test/Pikachu/2036.jpg  \n",
            " extracting: images/Test/Pikachu/2037.jpg  \n",
            " extracting: images/Test/Pikachu/2038.jpg  \n",
            " extracting: images/Test/Pikachu/2039.jpg  \n",
            " extracting: images/Train/Bulbasaur/439.jpg  \n",
            " extracting: images/Train/Bulbasaur/474.jpg  \n",
            " extracting: images/Train/Bulbasaur/497.jpg  \n",
            " extracting: images/Train/Bulbasaur/401.jpg  \n",
            " extracting: images/Train/Bulbasaur/403.jpg  \n",
            " extracting: images/Train/Bulbasaur/407.jpg  \n",
            " extracting: images/Train/Bulbasaur/415.jpg  \n",
            " extracting: images/Train/Bulbasaur/429.jpg  \n",
            " extracting: images/Train/Bulbasaur/452.jpg  \n",
            " extracting: images/Train/Bulbasaur/455.jpg  \n",
            " extracting: images/Train/Bulbasaur/456.jpg  \n",
            " extracting: images/Train/Bulbasaur/402.jpg  \n",
            " extracting: images/Train/Bulbasaur/417.jpg  \n",
            " extracting: images/Train/Bulbasaur/433.jpg  \n",
            " extracting: images/Train/Bulbasaur/434.jpg  \n",
            " extracting: images/Train/Bulbasaur/440.jpg  \n",
            " extracting: images/Train/Bulbasaur/405.jpg  \n",
            " extracting: images/Train/Bulbasaur/419.jpg  \n",
            " extracting: images/Train/Bulbasaur/450.jpg  \n",
            " extracting: images/Train/Bulbasaur/471.jpg  \n",
            " extracting: images/Train/Bulbasaur/477.jpg  \n",
            " extracting: images/Train/Bulbasaur/483.jpg  \n",
            " extracting: images/Train/Bulbasaur/421.jpg  \n",
            " extracting: images/Train/Bulbasaur/427.jpg  \n",
            " extracting: images/Train/Bulbasaur/438.jpg  \n",
            " extracting: images/Train/Bulbasaur/470.jpg  \n",
            " extracting: images/Train/Bulbasaur/473.jpg  \n",
            " extracting: images/Train/Bulbasaur/485.jpg  \n",
            " extracting: images/Train/Bulbasaur/399.jpg  \n",
            " extracting: images/Train/Bulbasaur/409.jpg  \n",
            " extracting: images/Train/Bulbasaur/426.jpg  \n",
            " extracting: images/Train/Bulbasaur/460.jpg  \n",
            " extracting: images/Train/Bulbasaur/465.jpg  \n",
            " extracting: images/Train/Bulbasaur/489.jpg  \n",
            " extracting: images/Train/Bulbasaur/491.jpg  \n",
            " extracting: images/Train/Bulbasaur/416.jpg  \n",
            " extracting: images/Train/Bulbasaur/430.jpg  \n",
            " extracting: images/Train/Bulbasaur/432.jpg  \n",
            " extracting: images/Train/Bulbasaur/448.jpg  \n",
            " extracting: images/Train/Bulbasaur/467.jpg  \n",
            " extracting: images/Train/Bulbasaur/458.jpg  \n",
            " extracting: images/Train/Bulbasaur/472.jpg  \n",
            " extracting: images/Train/Bulbasaur/476.jpg  \n",
            " extracting: images/Train/Bulbasaur/398.jpg  \n",
            " extracting: images/Train/Bulbasaur/404.jpg  \n",
            " extracting: images/Train/Bulbasaur/413.jpg  \n",
            " extracting: images/Train/Bulbasaur/451.jpg  \n",
            " extracting: images/Train/Bulbasaur/457.jpg  \n",
            " extracting: images/Train/Bulbasaur/478.jpg  \n",
            " extracting: images/Train/Bulbasaur/400.jpg  \n",
            " extracting: images/Train/Bulbasaur/422.jpg  \n",
            " extracting: images/Train/Bulbasaur/480.jpg  \n",
            " extracting: images/Train/Bulbasaur/418.jpg  \n",
            " extracting: images/Train/Bulbasaur/424.jpg  \n",
            " extracting: images/Train/Bulbasaur/447.jpg  \n",
            " extracting: images/Train/Bulbasaur/449.jpg  \n",
            " extracting: images/Train/Bulbasaur/479.jpg  \n",
            " extracting: images/Train/Bulbasaur/462.jpg  \n",
            " extracting: images/Train/Bulbasaur/487.jpg  \n",
            " extracting: images/Train/Bulbasaur/412.jpg  \n",
            " extracting: images/Train/Bulbasaur/435.jpg  \n",
            " extracting: images/Train/Bulbasaur/436.jpg  \n",
            " extracting: images/Train/Bulbasaur/459.jpg  \n",
            " extracting: images/Train/Bulbasaur/461.jpg  \n",
            " extracting: images/Train/Bulbasaur/492.jpg  \n",
            " extracting: images/Train/Bulbasaur/482.jpg  \n",
            " extracting: images/Train/Bulbasaur/484.jpg  \n",
            " extracting: images/Train/Bulbasaur/486.jpg  \n",
            " extracting: images/Train/Bulbasaur/406.jpg  \n",
            " extracting: images/Train/Bulbasaur/414.jpg  \n",
            " extracting: images/Train/Bulbasaur/431.jpg  \n",
            " extracting: images/Train/Bulbasaur/444.jpg  \n",
            " extracting: images/Train/Bulbasaur/453.jpg  \n",
            " extracting: images/Train/Bulbasaur/493.jpg  \n",
            " extracting: images/Train/Bulbasaur/495.jpg  \n",
            " extracting: images/Train/Bulbasaur/454.jpg  \n",
            " extracting: images/Train/Bulbasaur/469.jpg  \n",
            " extracting: images/Train/Bulbasaur/488.jpg  \n",
            " extracting: images/Train/Bulbasaur/443.jpg  \n",
            " extracting: images/Train/Bulbasaur/468.jpg  \n",
            " extracting: images/Train/Bulbasaur/481.jpg  \n",
            " extracting: images/Train/Bulbasaur/408.jpg  \n",
            " extracting: images/Train/Bulbasaur/423.jpg  \n",
            " extracting: images/Train/Bulbasaur/428.jpg  \n",
            " extracting: images/Train/Bulbasaur/441.jpg  \n",
            " extracting: images/Train/Bulbasaur/442.jpg  \n",
            " extracting: images/Train/Bulbasaur/494.jpg  \n",
            " extracting: images/Train/Bulbasaur/496.jpg  \n",
            " extracting: images/Train/Bulbasaur/464.jpg  \n",
            " extracting: images/Train/Bulbasaur/475.jpg  \n",
            " extracting: images/Train/Bulbasaur/490.jpg  \n",
            " extracting: images/Train/Bulbasaur/410.jpg  \n",
            " extracting: images/Train/Bulbasaur/411.jpg  \n",
            " extracting: images/Train/Bulbasaur/420.jpg  \n",
            " extracting: images/Train/Bulbasaur/425.jpg  \n",
            " extracting: images/Train/Bulbasaur/437.jpg  \n",
            " extracting: images/Train/Bulbasaur/397.jpg  \n",
            " extracting: images/Train/Bulbasaur/445.jpg  \n",
            " extracting: images/Train/Bulbasaur/446.jpg  \n",
            " extracting: images/Train/Bulbasaur/463.jpg  \n",
            " extracting: images/Train/Bulbasaur/466.jpg  \n",
            " extracting: images/Test/Bulbasaur/1100.jpg  \n",
            " extracting: images/Test/Bulbasaur/1101.jpg  \n",
            " extracting: images/Test/Bulbasaur/1102.jpg  \n",
            " extracting: images/Test/Bulbasaur/1103.jpg  \n",
            " extracting: images/Test/Bulbasaur/1104.jpg  \n",
            " extracting: images/Test/Bulbasaur/1105.jpg  \n",
            " extracting: images/Test/Bulbasaur/1106.jpg  \n",
            " extracting: images/Test/Bulbasaur/1107.jpg  \n",
            " extracting: images/Test/Bulbasaur/1108.jpg  \n",
            " extracting: images/Test/Bulbasaur/1109.jpg  \n",
            " extracting: images/Test/Bulbasaur/1110.jpg  \n",
            " extracting: images/Test/Bulbasaur/1111.jpg  \n",
            " extracting: images/Test/Bulbasaur/1112.jpg  \n",
            " extracting: images/Test/Bulbasaur/1113.jpg  \n",
            " extracting: images/Test/Bulbasaur/1114.jpg  \n",
            " extracting: images/Test/Bulbasaur/1115.jpg  \n",
            " extracting: images/Test/Bulbasaur/1116.jpg  \n",
            " extracting: images/Test/Bulbasaur/1117.jpg  \n",
            " extracting: images/Test/Bulbasaur/1118.jpg  \n",
            " extracting: images/Test/Bulbasaur/1119.jpg  \n",
            " extracting: images/Test/Bulbasaur/1120.jpg  \n",
            " extracting: images/Test/Bulbasaur/1121.jpg  \n",
            " extracting: images/Test/Bulbasaur/1122.jpg  \n",
            " extracting: images/Test/Bulbasaur/1123.jpg  \n",
            " extracting: images/Test/Bulbasaur/1124.jpg  \n",
            " extracting: images/Test/Bulbasaur/1125.jpg  \n",
            " extracting: images/Test/Bulbasaur/1126.jpg  \n",
            " extracting: images/Test/Bulbasaur/1127.jpg  \n",
            " extracting: images/Test/Bulbasaur/1128.jpg  \n",
            " extracting: images/Test/Bulbasaur/1129.jpg  \n",
            " extracting: images/Test/Bulbasaur/1130.jpg  \n",
            " extracting: images/Test/Bulbasaur/1131.jpg  \n",
            " extracting: images/Test/Bulbasaur/1132.jpg  \n",
            " extracting: images/Test/Bulbasaur/1133.jpg  \n",
            " extracting: images/Test/Bulbasaur/1134.jpg  \n",
            " extracting: images/Test/Bulbasaur/1135.jpg  \n",
            " extracting: images/Test/Bulbasaur/1136.jpg  \n",
            " extracting: images/Test/Bulbasaur/1137.jpg  \n",
            " extracting: images/Test/Bulbasaur/1138.jpg  \n",
            " extracting: images/Test/Bulbasaur/1139.jpg  \n",
            " extracting: images/Test/Bulbasaur/1140.jpg  \n",
            " extracting: images/Train/Charmander/597.jpg  \n",
            " extracting: images/Train/Charmander/610.jpg  \n",
            " extracting: images/Train/Charmander/539.jpg  \n",
            " extracting: images/Train/Charmander/542.jpg  \n",
            " extracting: images/Train/Charmander/557.jpg  \n",
            " extracting: images/Train/Charmander/571.jpg  \n",
            " extracting: images/Train/Charmander/576.jpg  \n",
            " extracting: images/Train/Charmander/592.jpg  \n",
            " extracting: images/Train/Charmander/525.jpg  \n",
            " extracting: images/Train/Charmander/530.jpg  \n",
            " extracting: images/Train/Charmander/543.jpg  \n",
            " extracting: images/Train/Charmander/577.jpg  \n",
            " extracting: images/Train/Charmander/574.jpg  \n",
            " extracting: images/Train/Charmander/580.jpg  \n",
            " extracting: images/Train/Charmander/599.jpg  \n",
            " extracting: images/Train/Charmander/615.jpg  \n",
            " extracting: images/Train/Charmander/523.jpg  \n",
            " extracting: images/Train/Charmander/537.jpg  \n",
            " extracting: images/Train/Charmander/549.jpg  \n",
            " extracting: images/Train/Charmander/550.jpg  \n",
            " extracting: images/Train/Charmander/605.jpg  \n",
            " extracting: images/Train/Charmander/612.jpg  \n",
            " extracting: images/Train/Charmander/520.jpg  \n",
            " extracting: images/Train/Charmander/536.jpg  \n",
            " extracting: images/Train/Charmander/555.jpg  \n",
            " extracting: images/Train/Charmander/586.jpg  \n",
            " extracting: images/Train/Charmander/593.jpg  \n",
            " extracting: images/Train/Charmander/607.jpg  \n",
            " extracting: images/Train/Charmander/613.jpg  \n",
            " extracting: images/Train/Charmander/528.jpg  \n",
            " extracting: images/Train/Charmander/548.jpg  \n",
            " extracting: images/Train/Charmander/552.jpg  \n",
            " extracting: images/Train/Charmander/565.jpg  \n",
            " extracting: images/Train/Charmander/582.jpg  \n",
            " extracting: images/Train/Charmander/611.jpg  \n",
            " extracting: images/Train/Charmander/521.jpg  \n",
            " extracting: images/Train/Charmander/562.jpg  \n",
            " extracting: images/Train/Charmander/563.jpg  \n",
            " extracting: images/Train/Charmander/589.jpg  \n",
            " extracting: images/Train/Charmander/590.jpg  \n",
            " extracting: images/Train/Charmander/614.jpg  \n",
            " extracting: images/Train/Charmander/581.jpg  \n",
            " extracting: images/Train/Charmander/601.jpg  \n",
            " extracting: images/Train/Charmander/527.jpg  \n",
            " extracting: images/Train/Charmander/533.jpg  \n",
            " extracting: images/Train/Charmander/547.jpg  \n",
            " extracting: images/Train/Charmander/551.jpg  \n",
            " extracting: images/Train/Charmander/554.jpg  \n",
            " extracting: images/Train/Charmander/559.jpg  \n",
            " extracting: images/Train/Charmander/608.jpg  \n",
            " extracting: images/Train/Charmander/617.jpg  \n",
            " extracting: images/Train/Charmander/619.jpg  \n",
            " extracting: images/Train/Charmander/604.jpg  \n",
            " extracting: images/Train/Charmander/498.jpg  \n",
            " extracting: images/Train/Charmander/526.jpg  \n",
            " extracting: images/Train/Charmander/546.jpg  \n",
            " extracting: images/Train/Charmander/585.jpg  \n",
            " extracting: images/Train/Charmander/587.jpg  \n",
            " extracting: images/Train/Charmander/600.jpg  \n",
            " extracting: images/Train/Charmander/545.jpg  \n",
            " extracting: images/Train/Charmander/560.jpg  \n",
            " extracting: images/Train/Charmander/620.jpg  \n",
            " extracting: images/Train/Charmander/531.jpg  \n",
            " extracting: images/Train/Charmander/541.jpg  \n",
            " extracting: images/Train/Charmander/572.jpg  \n",
            " extracting: images/Train/Charmander/578.jpg  \n",
            " extracting: images/Train/Charmander/595.jpg  \n",
            " extracting: images/Train/Charmander/522.jpg  \n",
            " extracting: images/Train/Charmander/544.jpg  \n",
            " extracting: images/Train/Charmander/596.jpg  \n",
            " extracting: images/Train/Charmander/602.jpg  \n",
            " extracting: images/Train/Charmander/573.jpg  \n",
            " extracting: images/Train/Charmander/583.jpg  \n",
            " extracting: images/Train/Charmander/538.jpg  \n",
            " extracting: images/Train/Charmander/553.jpg  \n",
            " extracting: images/Train/Charmander/556.jpg  \n",
            " extracting: images/Train/Charmander/564.jpg  \n",
            " extracting: images/Train/Charmander/566.jpg  \n",
            " extracting: images/Train/Charmander/569.jpg  \n",
            " extracting: images/Train/Charmander/594.jpg  \n",
            " extracting: images/Train/Charmander/609.jpg  \n",
            " extracting: images/Train/Charmander/616.jpg  \n",
            " extracting: images/Train/Charmander/558.jpg  \n",
            " extracting: images/Train/Charmander/584.jpg  \n",
            " extracting: images/Train/Charmander/598.jpg  \n",
            " extracting: images/Train/Charmander/570.jpg  \n",
            " extracting: images/Train/Charmander/579.jpg  \n",
            " extracting: images/Train/Charmander/529.jpg  \n",
            " extracting: images/Train/Charmander/532.jpg  \n",
            " extracting: images/Train/Charmander/534.jpg  \n",
            " extracting: images/Train/Charmander/535.jpg  \n",
            " extracting: images/Train/Charmander/567.jpg  \n",
            " extracting: images/Train/Charmander/568.jpg  \n",
            " extracting: images/Train/Charmander/603.jpg  \n",
            " extracting: images/Train/Charmander/606.jpg  \n",
            " extracting: images/Train/Charmander/618.jpg  \n",
            " extracting: images/Train/Charmander/524.jpg  \n",
            " extracting: images/Train/Charmander/540.jpg  \n",
            " extracting: images/Train/Charmander/561.jpg  \n",
            " extracting: images/Train/Charmander/575.jpg  \n",
            " extracting: images/Train/Charmander/588.jpg  \n",
            " extracting: images/Train/Charmander/591.jpg  \n",
            " extracting: images/Test/Charmander/2040.jpg  \n",
            " extracting: images/Test/Charmander/2200.jpg  \n",
            " extracting: images/Test/Charmander/2201.jpg  \n",
            " extracting: images/Test/Charmander/2202.jpg  \n",
            " extracting: images/Test/Charmander/2203.jpg  \n",
            " extracting: images/Test/Charmander/2204.jpg  \n",
            " extracting: images/Test/Charmander/2205.jpg  \n",
            " extracting: images/Test/Charmander/2206.jpg  \n",
            " extracting: images/Test/Charmander/2207.jpg  \n",
            " extracting: images/Test/Charmander/2208.jpg  \n",
            " extracting: images/Test/Charmander/2209.jpg  \n",
            " extracting: images/Test/Charmander/2210.jpg  \n",
            " extracting: images/Test/Charmander/2211.jpg  \n",
            " extracting: images/Test/Charmander/2212.jpg  \n",
            " extracting: images/Test/Charmander/2213.jpg  \n",
            " extracting: images/Test/Charmander/2214.jpg  \n",
            " extracting: images/Test/Charmander/2215.jpg  \n",
            " extracting: images/Test/Charmander/2216.jpg  \n",
            " extracting: images/Test/Charmander/2217.jpg  \n",
            " extracting: images/Test/Charmander/2218.jpg  \n",
            " extracting: images/Test/Charmander/2219.jpg  \n",
            " extracting: images/Test/Charmander/2220.jpg  \n",
            " extracting: images/Test/Charmander/2221.jpg  \n",
            " extracting: images/Test/Charmander/2222.jpg  \n",
            " extracting: images/Test/Charmander/2223.jpg  \n",
            " extracting: images/Test/Charmander/2224.jpg  \n",
            " extracting: images/Test/Charmander/2225.jpg  \n",
            " extracting: images/Test/Charmander/2226.jpg  \n",
            " extracting: images/Test/Charmander/2227.jpg  \n",
            " extracting: images/Test/Charmander/2228.jpg  \n",
            " extracting: images/Test/Charmander/2229.jpg  \n",
            " extracting: images/Test/Charmander/2230.jpg  \n",
            " extracting: images/Test/Charmander/2231.jpg  \n",
            " extracting: images/Test/Charmander/2232.jpg  \n",
            " extracting: images/Test/Charmander/2233.jpg  \n",
            " extracting: images/Test/Charmander/2234.jpg  \n",
            " extracting: images/Test/Charmander/2235.jpg  \n",
            " extracting: images/Test/Charmander/2236.jpg  \n",
            " extracting: images/Test/Charmander/2237.jpg  \n",
            " extracting: images/Test/Charmander/2238.jpg  \n",
            " extracting: images/Test/Charmander/2239.jpg  \n",
            " extracting: images/Test/Charmander/2240.jpg  \n"
          ]
        }
      ]
    },
    {
      "cell_type": "code",
      "source": [
        "classes= os.listdir(\"images/Train\")\n",
        "classes"
      ],
      "metadata": {
        "colab": {
          "base_uri": "https://localhost:8080/"
        },
        "id": "xah6X6mr_5u5",
        "outputId": "62e17951-a49a-4177-82be-2117f51aec46"
      },
      "execution_count": 15,
      "outputs": [
        {
          "output_type": "execute_result",
          "data": {
            "text/plain": [
              "['Charmander', 'Pikachu', 'Bulbasaur']"
            ]
          },
          "metadata": {},
          "execution_count": 15
        }
      ]
    },
    {
      "cell_type": "code",
      "source": [
        "print(\"Training Data:\")\n",
        "for f in classes:\n",
        "  path= \"images/Train/\" + f\n",
        "  print(f\"{f} - {len(os.listdir(path))}\")"
      ],
      "metadata": {
        "colab": {
          "base_uri": "https://localhost:8080/"
        },
        "id": "C8kw_qpHAN8-",
        "outputId": "f9457ec7-9df8-4305-8e2c-68550533a45d"
      },
      "execution_count": 19,
      "outputs": [
        {
          "output_type": "stream",
          "name": "stdout",
          "text": [
            "Training Data:\n",
            "Charmander - 102\n",
            "Pikachu - 101\n",
            "Bulbasaur - 101\n"
          ]
        }
      ]
    },
    {
      "cell_type": "code",
      "source": [
        "!pip install keras_preprocessing"
      ],
      "metadata": {
        "colab": {
          "base_uri": "https://localhost:8080/"
        },
        "id": "bsEPIpk189Zc",
        "outputId": "fd80d60a-50a4-48db-ac0a-6446cee6926b"
      },
      "execution_count": 5,
      "outputs": [
        {
          "output_type": "stream",
          "name": "stdout",
          "text": [
            "Collecting keras_preprocessing\n",
            "  Downloading Keras_Preprocessing-1.1.2-py2.py3-none-any.whl (42 kB)\n",
            "\u001b[?25l     \u001b[90m━━━━━━━━━━━━━━━━━━━━━━━━━━━━━━━━━━━━━━━━\u001b[0m \u001b[32m0.0/42.6 kB\u001b[0m \u001b[31m?\u001b[0m eta \u001b[36m-:--:--\u001b[0m\r\u001b[2K     \u001b[90m━━━━━━━━━━━━━━━━━━━━━━━━━━━━━━━━━━━━━━━━\u001b[0m \u001b[32m42.6/42.6 kB\u001b[0m \u001b[31m1.5 MB/s\u001b[0m eta \u001b[36m0:00:00\u001b[0m\n",
            "\u001b[?25hRequirement already satisfied: numpy>=1.9.1 in /usr/local/lib/python3.10/dist-packages (from keras_preprocessing) (1.25.2)\n",
            "Requirement already satisfied: six>=1.9.0 in /usr/local/lib/python3.10/dist-packages (from keras_preprocessing) (1.16.0)\n",
            "Installing collected packages: keras_preprocessing\n",
            "Successfully installed keras_preprocessing-1.1.2\n"
          ]
        }
      ]
    },
    {
      "cell_type": "code",
      "source": [
        "from keras_preprocessing import image"
      ],
      "metadata": {
        "id": "kTOIc8O48bgA"
      },
      "execution_count": 6,
      "outputs": []
    },
    {
      "cell_type": "code",
      "source": [
        "train_data = [] #x\n",
        "train_labels = [] #y\n",
        "for category in classes:\n",
        "  folder = f\"images/Train/{category}\"\n",
        "  for img_name in os.listdir(folder):\n",
        "      img_path = f\"{folder}/{img_name}\"\n",
        "\n",
        "      img=image.load_img(path, target_size=(100,100))\n",
        "      img= image.img_to_array(img)\n",
        "      train_data.append(img)\n",
        "      train_labels.append(category)"
      ],
      "metadata": {
        "id": "r88vO-Vg8QPM"
      },
      "execution_count": 16,
      "outputs": []
    },
    {
      "cell_type": "code",
      "source": [
        "path = \"images/Train/Pikachu/300.jpg\"\n",
        "img=image.load_img(path, target_size=(100,100))\n",
        "img= image.img_to_array(img)\n",
        "#img.shape\n",
        "train_data.append(img)"
      ],
      "metadata": {
        "id": "UysqmzcQ9Jzm"
      },
      "execution_count": 13,
      "outputs": []
    },
    {
      "cell_type": "code",
      "source": [
        "train_data= np.array(train_data)\n",
        "train_labels= np.array(train_labels)"
      ],
      "metadata": {
        "id": "qbmtV_pLBaks"
      },
      "execution_count": 20,
      "outputs": []
    },
    {
      "cell_type": "code",
      "source": [
        "train_data.shape"
      ],
      "metadata": {
        "colab": {
          "base_uri": "https://localhost:8080/"
        },
        "id": "F8Aw5I_QB_5Z",
        "outputId": "8e24b161-9969-4715-9e8e-3d239722c411"
      },
      "execution_count": 100,
      "outputs": [
        {
          "output_type": "execute_result",
          "data": {
            "text/plain": [
              "(304, 30000)"
            ]
          },
          "metadata": {},
          "execution_count": 100
        }
      ]
    },
    {
      "cell_type": "code",
      "source": [
        "train_data = train_data.reshape(len(train_data), 30000)\n",
        "train_data.shape"
      ],
      "metadata": {
        "colab": {
          "base_uri": "https://localhost:8080/"
        },
        "id": "E5wKPCFCCDY3",
        "outputId": "20f3fc9b-8061-4d99-b9f0-ced91a78f004"
      },
      "execution_count": 121,
      "outputs": [
        {
          "output_type": "execute_result",
          "data": {
            "text/plain": [
              "(304, 30000)"
            ]
          },
          "metadata": {},
          "execution_count": 121
        }
      ]
    },
    {
      "cell_type": "code",
      "source": [
        "train_labels"
      ],
      "metadata": {
        "colab": {
          "base_uri": "https://localhost:8080/"
        },
        "id": "tLpIW89_VTDi",
        "outputId": "af7db50a-47a9-48a8-9eb4-ebba770bec2b"
      },
      "execution_count": 123,
      "outputs": [
        {
          "output_type": "execute_result",
          "data": {
            "text/plain": [
              "array(['[0.0, 1.0, 0.0]', '[0.0, 1.0, 0.0]', '[0.0, 1.0, 0.0]',\n",
              "       '[0.0, 1.0, 0.0]', '[0.0, 1.0, 0.0]', '[0.0, 1.0, 0.0]',\n",
              "       '[0.0, 1.0, 0.0]', '[0.0, 1.0, 0.0]', '[0.0, 1.0, 0.0]',\n",
              "       '[0.0, 1.0, 0.0]', '[0.0, 1.0, 0.0]', '[0.0, 1.0, 0.0]',\n",
              "       '[0.0, 1.0, 0.0]', '[0.0, 1.0, 0.0]', '[0.0, 1.0, 0.0]',\n",
              "       '[0.0, 1.0, 0.0]', '[0.0, 1.0, 0.0]', '[0.0, 1.0, 0.0]',\n",
              "       '[0.0, 1.0, 0.0]', '[0.0, 1.0, 0.0]', '[0.0, 1.0, 0.0]',\n",
              "       '[0.0, 1.0, 0.0]', '[0.0, 1.0, 0.0]', '[0.0, 1.0, 0.0]',\n",
              "       '[0.0, 1.0, 0.0]', '[0.0, 1.0, 0.0]', '[0.0, 1.0, 0.0]',\n",
              "       '[0.0, 1.0, 0.0]', '[0.0, 1.0, 0.0]', '[0.0, 1.0, 0.0]',\n",
              "       '[0.0, 1.0, 0.0]', '[0.0, 1.0, 0.0]', '[0.0, 1.0, 0.0]',\n",
              "       '[0.0, 1.0, 0.0]', '[0.0, 1.0, 0.0]', '[0.0, 1.0, 0.0]',\n",
              "       '[0.0, 1.0, 0.0]', '[0.0, 1.0, 0.0]', '[0.0, 1.0, 0.0]',\n",
              "       '[0.0, 1.0, 0.0]', '[0.0, 1.0, 0.0]', '[0.0, 1.0, 0.0]',\n",
              "       '[0.0, 1.0, 0.0]', '[0.0, 1.0, 0.0]', '[0.0, 1.0, 0.0]',\n",
              "       '[0.0, 1.0, 0.0]', '[0.0, 1.0, 0.0]', '[0.0, 1.0, 0.0]',\n",
              "       '[0.0, 1.0, 0.0]', '[0.0, 1.0, 0.0]', '[0.0, 1.0, 0.0]',\n",
              "       '[0.0, 1.0, 0.0]', '[0.0, 1.0, 0.0]', '[0.0, 1.0, 0.0]',\n",
              "       '[0.0, 1.0, 0.0]', '[0.0, 1.0, 0.0]', '[0.0, 1.0, 0.0]',\n",
              "       '[0.0, 1.0, 0.0]', '[0.0, 1.0, 0.0]', '[0.0, 1.0, 0.0]',\n",
              "       '[0.0, 1.0, 0.0]', '[0.0, 1.0, 0.0]', '[0.0, 1.0, 0.0]',\n",
              "       '[0.0, 1.0, 0.0]', '[0.0, 1.0, 0.0]', '[0.0, 1.0, 0.0]',\n",
              "       '[0.0, 1.0, 0.0]', '[0.0, 1.0, 0.0]', '[0.0, 1.0, 0.0]',\n",
              "       '[0.0, 1.0, 0.0]', '[0.0, 1.0, 0.0]', '[0.0, 1.0, 0.0]',\n",
              "       '[0.0, 1.0, 0.0]', '[0.0, 1.0, 0.0]', '[0.0, 1.0, 0.0]',\n",
              "       '[0.0, 1.0, 0.0]', '[0.0, 1.0, 0.0]', '[0.0, 1.0, 0.0]',\n",
              "       '[0.0, 1.0, 0.0]', '[0.0, 1.0, 0.0]', '[0.0, 1.0, 0.0]',\n",
              "       '[0.0, 1.0, 0.0]', '[0.0, 1.0, 0.0]', '[0.0, 1.0, 0.0]',\n",
              "       '[0.0, 1.0, 0.0]', '[0.0, 1.0, 0.0]', '[0.0, 1.0, 0.0]',\n",
              "       '[0.0, 1.0, 0.0]', '[0.0, 1.0, 0.0]', '[0.0, 1.0, 0.0]',\n",
              "       '[0.0, 1.0, 0.0]', '[0.0, 1.0, 0.0]', '[0.0, 1.0, 0.0]',\n",
              "       '[0.0, 1.0, 0.0]', '[0.0, 1.0, 0.0]', '[0.0, 1.0, 0.0]',\n",
              "       '[0.0, 1.0, 0.0]', '[0.0, 1.0, 0.0]', '[0.0, 1.0, 0.0]',\n",
              "       '[0.0, 1.0, 0.0]', '[0.0, 1.0, 0.0]', '[0.0, 1.0, 0.0]',\n",
              "       '[1.0, 0.0, 0.0]', '[1.0, 0.0, 0.0]', '[1.0, 0.0, 0.0]',\n",
              "       '[1.0, 0.0, 0.0]', '[1.0, 0.0, 0.0]', '[1.0, 0.0, 0.0]',\n",
              "       '[1.0, 0.0, 0.0]', '[1.0, 0.0, 0.0]', '[1.0, 0.0, 0.0]',\n",
              "       '[1.0, 0.0, 0.0]', '[1.0, 0.0, 0.0]', '[1.0, 0.0, 0.0]',\n",
              "       '[1.0, 0.0, 0.0]', '[1.0, 0.0, 0.0]', '[1.0, 0.0, 0.0]',\n",
              "       '[1.0, 0.0, 0.0]', '[1.0, 0.0, 0.0]', '[1.0, 0.0, 0.0]',\n",
              "       '[1.0, 0.0, 0.0]', '[1.0, 0.0, 0.0]', '[1.0, 0.0, 0.0]',\n",
              "       '[1.0, 0.0, 0.0]', '[1.0, 0.0, 0.0]', '[1.0, 0.0, 0.0]',\n",
              "       '[1.0, 0.0, 0.0]', '[1.0, 0.0, 0.0]', '[1.0, 0.0, 0.0]',\n",
              "       '[1.0, 0.0, 0.0]', '[1.0, 0.0, 0.0]', '[1.0, 0.0, 0.0]',\n",
              "       '[1.0, 0.0, 0.0]', '[1.0, 0.0, 0.0]', '[1.0, 0.0, 0.0]',\n",
              "       '[1.0, 0.0, 0.0]', '[1.0, 0.0, 0.0]', '[1.0, 0.0, 0.0]',\n",
              "       '[1.0, 0.0, 0.0]', '[1.0, 0.0, 0.0]', '[1.0, 0.0, 0.0]',\n",
              "       '[1.0, 0.0, 0.0]', '[1.0, 0.0, 0.0]', '[1.0, 0.0, 0.0]',\n",
              "       '[1.0, 0.0, 0.0]', '[1.0, 0.0, 0.0]', '[1.0, 0.0, 0.0]',\n",
              "       '[1.0, 0.0, 0.0]', '[1.0, 0.0, 0.0]', '[1.0, 0.0, 0.0]',\n",
              "       '[1.0, 0.0, 0.0]', '[1.0, 0.0, 0.0]', '[1.0, 0.0, 0.0]',\n",
              "       '[1.0, 0.0, 0.0]', '[1.0, 0.0, 0.0]', '[1.0, 0.0, 0.0]',\n",
              "       '[1.0, 0.0, 0.0]', '[1.0, 0.0, 0.0]', '[1.0, 0.0, 0.0]',\n",
              "       '[1.0, 0.0, 0.0]', '[1.0, 0.0, 0.0]', '[1.0, 0.0, 0.0]',\n",
              "       '[1.0, 0.0, 0.0]', '[1.0, 0.0, 0.0]', '[1.0, 0.0, 0.0]',\n",
              "       '[1.0, 0.0, 0.0]', '[1.0, 0.0, 0.0]', '[1.0, 0.0, 0.0]',\n",
              "       '[1.0, 0.0, 0.0]', '[1.0, 0.0, 0.0]', '[1.0, 0.0, 0.0]',\n",
              "       '[1.0, 0.0, 0.0]', '[1.0, 0.0, 0.0]', '[1.0, 0.0, 0.0]',\n",
              "       '[1.0, 0.0, 0.0]', '[1.0, 0.0, 0.0]', '[1.0, 0.0, 0.0]',\n",
              "       '[1.0, 0.0, 0.0]', '[1.0, 0.0, 0.0]', '[1.0, 0.0, 0.0]',\n",
              "       '[1.0, 0.0, 0.0]', '[1.0, 0.0, 0.0]', '[1.0, 0.0, 0.0]',\n",
              "       '[1.0, 0.0, 0.0]', '[1.0, 0.0, 0.0]', '[1.0, 0.0, 0.0]',\n",
              "       '[1.0, 0.0, 0.0]', '[1.0, 0.0, 0.0]', '[1.0, 0.0, 0.0]',\n",
              "       '[1.0, 0.0, 0.0]', '[1.0, 0.0, 0.0]', '[1.0, 0.0, 0.0]',\n",
              "       '[1.0, 0.0, 0.0]', '[1.0, 0.0, 0.0]', '[1.0, 0.0, 0.0]',\n",
              "       '[1.0, 0.0, 0.0]', '[1.0, 0.0, 0.0]', '[1.0, 0.0, 0.0]',\n",
              "       '[1.0, 0.0, 0.0]', '[1.0, 0.0, 0.0]', '[1.0, 0.0, 0.0]',\n",
              "       '[1.0, 0.0, 0.0]', '[1.0, 0.0, 0.0]', '[0.0, 0.0, 1.0]',\n",
              "       '[0.0, 0.0, 1.0]', '[0.0, 0.0, 1.0]', '[0.0, 0.0, 1.0]',\n",
              "       '[0.0, 0.0, 1.0]', '[0.0, 0.0, 1.0]', '[0.0, 0.0, 1.0]',\n",
              "       '[0.0, 0.0, 1.0]', '[0.0, 0.0, 1.0]', '[0.0, 0.0, 1.0]',\n",
              "       '[0.0, 0.0, 1.0]', '[0.0, 0.0, 1.0]', '[0.0, 0.0, 1.0]',\n",
              "       '[0.0, 0.0, 1.0]', '[0.0, 0.0, 1.0]', '[0.0, 0.0, 1.0]',\n",
              "       '[0.0, 0.0, 1.0]', '[0.0, 0.0, 1.0]', '[0.0, 0.0, 1.0]',\n",
              "       '[0.0, 0.0, 1.0]', '[0.0, 0.0, 1.0]', '[0.0, 0.0, 1.0]',\n",
              "       '[0.0, 0.0, 1.0]', '[0.0, 0.0, 1.0]', '[0.0, 0.0, 1.0]',\n",
              "       '[0.0, 0.0, 1.0]', '[0.0, 0.0, 1.0]', '[0.0, 0.0, 1.0]',\n",
              "       '[0.0, 0.0, 1.0]', '[0.0, 0.0, 1.0]', '[0.0, 0.0, 1.0]',\n",
              "       '[0.0, 0.0, 1.0]', '[0.0, 0.0, 1.0]', '[0.0, 0.0, 1.0]',\n",
              "       '[0.0, 0.0, 1.0]', '[0.0, 0.0, 1.0]', '[0.0, 0.0, 1.0]',\n",
              "       '[0.0, 0.0, 1.0]', '[0.0, 0.0, 1.0]', '[0.0, 0.0, 1.0]',\n",
              "       '[0.0, 0.0, 1.0]', '[0.0, 0.0, 1.0]', '[0.0, 0.0, 1.0]',\n",
              "       '[0.0, 0.0, 1.0]', '[0.0, 0.0, 1.0]', '[0.0, 0.0, 1.0]',\n",
              "       '[0.0, 0.0, 1.0]', '[0.0, 0.0, 1.0]', '[0.0, 0.0, 1.0]',\n",
              "       '[0.0, 0.0, 1.0]', '[0.0, 0.0, 1.0]', '[0.0, 0.0, 1.0]',\n",
              "       '[0.0, 0.0, 1.0]', '[0.0, 0.0, 1.0]', '[0.0, 0.0, 1.0]',\n",
              "       '[0.0, 0.0, 1.0]', '[0.0, 0.0, 1.0]', '[0.0, 0.0, 1.0]',\n",
              "       '[0.0, 0.0, 1.0]', '[0.0, 0.0, 1.0]', '[0.0, 0.0, 1.0]',\n",
              "       '[0.0, 0.0, 1.0]', '[0.0, 0.0, 1.0]', '[0.0, 0.0, 1.0]',\n",
              "       '[0.0, 0.0, 1.0]', '[0.0, 0.0, 1.0]', '[0.0, 0.0, 1.0]',\n",
              "       '[0.0, 0.0, 1.0]', '[0.0, 0.0, 1.0]', '[0.0, 0.0, 1.0]',\n",
              "       '[0.0, 0.0, 1.0]', '[0.0, 0.0, 1.0]', '[0.0, 0.0, 1.0]',\n",
              "       '[0.0, 0.0, 1.0]', '[0.0, 0.0, 1.0]', '[0.0, 0.0, 1.0]',\n",
              "       '[0.0, 0.0, 1.0]', '[0.0, 0.0, 1.0]', '[0.0, 0.0, 1.0]',\n",
              "       '[0.0, 0.0, 1.0]', '[0.0, 0.0, 1.0]', '[0.0, 0.0, 1.0]',\n",
              "       '[0.0, 0.0, 1.0]', '[0.0, 0.0, 1.0]', '[0.0, 0.0, 1.0]',\n",
              "       '[0.0, 0.0, 1.0]', '[0.0, 0.0, 1.0]', '[0.0, 0.0, 1.0]',\n",
              "       '[0.0, 0.0, 1.0]', '[0.0, 0.0, 1.0]', '[0.0, 0.0, 1.0]',\n",
              "       '[0.0, 0.0, 1.0]', '[0.0, 0.0, 1.0]', '[0.0, 0.0, 1.0]',\n",
              "       '[0.0, 0.0, 1.0]', '[0.0, 0.0, 1.0]', '[0.0, 0.0, 1.0]',\n",
              "       '[0.0, 0.0, 1.0]', '[0.0, 0.0, 1.0]', '[0.0, 0.0, 1.0]',\n",
              "       '[0.0, 0.0, 1.0]'], dtype='<U15')"
            ]
          },
          "metadata": {},
          "execution_count": 123
        }
      ]
    },
    {
      "cell_type": "code",
      "source": [
        "category2label={'Pikachu':0, 'Charmander':1, 'Bulbasaur':2}\n",
        "label2category={0:'Pikachu', 1: 'Charmander', 2: 'Bulbasaur'}"
      ],
      "metadata": {
        "id": "UfI5yju6CW1s"
      },
      "execution_count": 124,
      "outputs": []
    },
    {
      "cell_type": "code",
      "source": [
        "train_labels = np.array([ category2label[label] for label in train_labels])"
      ],
      "metadata": {
        "id": "CgJC16QVW2_m"
      },
      "execution_count": null,
      "outputs": []
    },
    {
      "cell_type": "code",
      "source": [
        "from keras.utils import to_categorical"
      ],
      "metadata": {
        "id": "xNPgET7ODuZm"
      },
      "execution_count": 127,
      "outputs": []
    },
    {
      "cell_type": "code",
      "source": [
        "train_labels=to_categorical(train_labels)"
      ],
      "metadata": {
        "id": "qqHX3AALXLZ1"
      },
      "execution_count": null,
      "outputs": []
    },
    {
      "cell_type": "code",
      "source": [
        "train_labels[:5]"
      ],
      "metadata": {
        "colab": {
          "base_uri": "https://localhost:8080/"
        },
        "id": "kn6UE9PvEI6i",
        "outputId": "fe1f5cea-f726-4cc8-b219-175affd743aa"
      },
      "execution_count": 109,
      "outputs": [
        {
          "output_type": "execute_result",
          "data": {
            "text/plain": [
              "array(['[0.0, 1.0, 0.0]', '[0.0, 1.0, 0.0]', '[0.0, 1.0, 0.0]',\n",
              "       '[0.0, 1.0, 0.0]', '[0.0, 1.0, 0.0]'], dtype='<U15')"
            ]
          },
          "metadata": {},
          "execution_count": 109
        }
      ]
    },
    {
      "cell_type": "code",
      "source": [
        "from keras.layers import Dense\n",
        "from keras import Sequential"
      ],
      "metadata": {
        "id": "91CvNIdfE0mv"
      },
      "execution_count": 31,
      "outputs": []
    },
    {
      "cell_type": "code",
      "source": [
        "features=train_data.shape[1]"
      ],
      "metadata": {
        "id": "R7xPGVQLFB3_"
      },
      "execution_count": 110,
      "outputs": []
    },
    {
      "cell_type": "code",
      "source": [
        "model= Sequential()\n",
        "model.add( Dense(units=512, activation='relu', input_shape=(features,)))\n",
        "model.add( Dense(units=256, activation='relu'))\n",
        "model.add( Dense(units=128, activation='relu'))\n",
        "model.add( Dense(units=64, activation='relu'))\n",
        "model.add( Dense(units=3, activation='softmax'))\n",
        "\n",
        "model.compile(optimizer=\"adam\", loss=\"categorical_crossentropy\", metrics=['accuracy'])"
      ],
      "metadata": {
        "id": "VAekLtw_Fdlj"
      },
      "execution_count": 111,
      "outputs": []
    },
    {
      "cell_type": "code",
      "source": [
        "model.summary()"
      ],
      "metadata": {
        "colab": {
          "base_uri": "https://localhost:8080/"
        },
        "id": "FWMTdX-0GQlM",
        "outputId": "cc953cb0-d0c5-4779-c51b-8bc2f2b1d90c"
      },
      "execution_count": 112,
      "outputs": [
        {
          "output_type": "stream",
          "name": "stdout",
          "text": [
            "Model: \"sequential_1\"\n",
            "_________________________________________________________________\n",
            " Layer (type)                Output Shape              Param #   \n",
            "=================================================================\n",
            " dense_5 (Dense)             (None, 512)               15360512  \n",
            "                                                                 \n",
            " dense_6 (Dense)             (None, 256)               131328    \n",
            "                                                                 \n",
            " dense_7 (Dense)             (None, 128)               32896     \n",
            "                                                                 \n",
            " dense_8 (Dense)             (None, 64)                8256      \n",
            "                                                                 \n",
            " dense_9 (Dense)             (None, 3)                 195       \n",
            "                                                                 \n",
            "=================================================================\n",
            "Total params: 15533187 (59.25 MB)\n",
            "Trainable params: 15533187 (59.25 MB)\n",
            "Non-trainable params: 0 (0.00 Byte)\n",
            "_________________________________________________________________\n"
          ]
        }
      ]
    },
    {
      "cell_type": "code",
      "source": [
        "model.fit(train_data, train_labels, batch_size=32, epochs=50)"
      ],
      "metadata": {
        "id": "6SKdNoPmXPuj"
      },
      "execution_count": null,
      "outputs": []
    },
    {
      "cell_type": "code",
      "source": [
        "test_data = [] #x\n",
        "test_labels = [] #y\n",
        "for category in classes:\n",
        "  folder = f\"images/Test/{category}\"\n",
        "  for img_name in os.listdir(folder):\n",
        "      img_path = f\"{folder}/{img_name}\"\n",
        "\n",
        "      img=image.load_img(img_path, target_size=(100,100))\n",
        "      img= image.img_to_array(img)\n",
        "      test_data.append(img)\n",
        "      test_labels.append(category)"
      ],
      "metadata": {
        "id": "0lV6ro1OKzYt"
      },
      "execution_count": 46,
      "outputs": []
    },
    {
      "cell_type": "code",
      "source": [
        "test_data= np.array(test_data)\n",
        "test_labels= np.array(test_labels)"
      ],
      "metadata": {
        "id": "pp9VqqsdLfgL"
      },
      "execution_count": 95,
      "outputs": []
    },
    {
      "cell_type": "code",
      "source": [
        "test_data.shape"
      ],
      "metadata": {
        "colab": {
          "base_uri": "https://localhost:8080/"
        },
        "id": "3tBi3AYeLtwG",
        "outputId": "5cd94b0c-ef6f-4e16-993f-3359635b64b2"
      },
      "execution_count": 40,
      "outputs": [
        {
          "output_type": "execute_result",
          "data": {
            "text/plain": [
              "(123, 100, 100, 3)"
            ]
          },
          "metadata": {},
          "execution_count": 40
        }
      ]
    },
    {
      "cell_type": "code",
      "source": [
        "# test_labels"
      ],
      "metadata": {
        "id": "FaJPlcw2MwVS"
      },
      "execution_count": 44,
      "outputs": []
    },
    {
      "cell_type": "code",
      "source": [
        "test_labels"
      ],
      "metadata": {
        "colab": {
          "base_uri": "https://localhost:8080/"
        },
        "id": "OFBdR4FONNuj",
        "outputId": "9452627b-432d-4280-fd49-d3839bd0919a"
      },
      "execution_count": 47,
      "outputs": [
        {
          "output_type": "execute_result",
          "data": {
            "text/plain": [
              "['Charmander',\n",
              " 'Charmander',\n",
              " 'Charmander',\n",
              " 'Charmander',\n",
              " 'Charmander',\n",
              " 'Charmander',\n",
              " 'Charmander',\n",
              " 'Charmander',\n",
              " 'Charmander',\n",
              " 'Charmander',\n",
              " 'Charmander',\n",
              " 'Charmander',\n",
              " 'Charmander',\n",
              " 'Charmander',\n",
              " 'Charmander',\n",
              " 'Charmander',\n",
              " 'Charmander',\n",
              " 'Charmander',\n",
              " 'Charmander',\n",
              " 'Charmander',\n",
              " 'Charmander',\n",
              " 'Charmander',\n",
              " 'Charmander',\n",
              " 'Charmander',\n",
              " 'Charmander',\n",
              " 'Charmander',\n",
              " 'Charmander',\n",
              " 'Charmander',\n",
              " 'Charmander',\n",
              " 'Charmander',\n",
              " 'Charmander',\n",
              " 'Charmander',\n",
              " 'Charmander',\n",
              " 'Charmander',\n",
              " 'Charmander',\n",
              " 'Charmander',\n",
              " 'Charmander',\n",
              " 'Charmander',\n",
              " 'Charmander',\n",
              " 'Charmander',\n",
              " 'Charmander',\n",
              " 'Charmander',\n",
              " 'Pikachu',\n",
              " 'Pikachu',\n",
              " 'Pikachu',\n",
              " 'Pikachu',\n",
              " 'Pikachu',\n",
              " 'Pikachu',\n",
              " 'Pikachu',\n",
              " 'Pikachu',\n",
              " 'Pikachu',\n",
              " 'Pikachu',\n",
              " 'Pikachu',\n",
              " 'Pikachu',\n",
              " 'Pikachu',\n",
              " 'Pikachu',\n",
              " 'Pikachu',\n",
              " 'Pikachu',\n",
              " 'Pikachu',\n",
              " 'Pikachu',\n",
              " 'Pikachu',\n",
              " 'Pikachu',\n",
              " 'Pikachu',\n",
              " 'Pikachu',\n",
              " 'Pikachu',\n",
              " 'Pikachu',\n",
              " 'Pikachu',\n",
              " 'Pikachu',\n",
              " 'Pikachu',\n",
              " 'Pikachu',\n",
              " 'Pikachu',\n",
              " 'Pikachu',\n",
              " 'Pikachu',\n",
              " 'Pikachu',\n",
              " 'Pikachu',\n",
              " 'Pikachu',\n",
              " 'Pikachu',\n",
              " 'Pikachu',\n",
              " 'Pikachu',\n",
              " 'Pikachu',\n",
              " 'Pikachu',\n",
              " 'Pikachu',\n",
              " 'Bulbasaur',\n",
              " 'Bulbasaur',\n",
              " 'Bulbasaur',\n",
              " 'Bulbasaur',\n",
              " 'Bulbasaur',\n",
              " 'Bulbasaur',\n",
              " 'Bulbasaur',\n",
              " 'Bulbasaur',\n",
              " 'Bulbasaur',\n",
              " 'Bulbasaur',\n",
              " 'Bulbasaur',\n",
              " 'Bulbasaur',\n",
              " 'Bulbasaur',\n",
              " 'Bulbasaur',\n",
              " 'Bulbasaur',\n",
              " 'Bulbasaur',\n",
              " 'Bulbasaur',\n",
              " 'Bulbasaur',\n",
              " 'Bulbasaur',\n",
              " 'Bulbasaur',\n",
              " 'Bulbasaur',\n",
              " 'Bulbasaur',\n",
              " 'Bulbasaur',\n",
              " 'Bulbasaur',\n",
              " 'Bulbasaur',\n",
              " 'Bulbasaur',\n",
              " 'Bulbasaur',\n",
              " 'Bulbasaur',\n",
              " 'Bulbasaur',\n",
              " 'Bulbasaur',\n",
              " 'Bulbasaur',\n",
              " 'Bulbasaur',\n",
              " 'Bulbasaur',\n",
              " 'Bulbasaur',\n",
              " 'Bulbasaur',\n",
              " 'Bulbasaur',\n",
              " 'Bulbasaur',\n",
              " 'Bulbasaur',\n",
              " 'Bulbasaur',\n",
              " 'Bulbasaur',\n",
              " 'Bulbasaur']"
            ]
          },
          "metadata": {},
          "execution_count": 47
        }
      ]
    },
    {
      "cell_type": "code",
      "source": [
        "test_labels = np.array( [category2label[label] for label in test_labels])\n",
        "test_labels = to_categorical(test_labels)\n",
        "test_labels.shape"
      ],
      "metadata": {
        "colab": {
          "base_uri": "https://localhost:8080/"
        },
        "id": "9EXYnBxaL1la",
        "outputId": "38d5894e-162e-498c-8c2e-7947920ee1cc"
      },
      "execution_count": 48,
      "outputs": [
        {
          "output_type": "execute_result",
          "data": {
            "text/plain": [
              "(123, 3)"
            ]
          },
          "metadata": {},
          "execution_count": 48
        }
      ]
    },
    {
      "cell_type": "code",
      "source": [
        "test_data = test_data.reshape(len(test_data), 30000)\n",
        "test_data.shape"
      ],
      "metadata": {
        "colab": {
          "base_uri": "https://localhost:8080/"
        },
        "id": "yNPvBfKRMF6e",
        "outputId": "85430848-c9b2-42ec-b4e1-f9c4b6d6c773"
      },
      "execution_count": 51,
      "outputs": [
        {
          "output_type": "execute_result",
          "data": {
            "text/plain": [
              "(123, 30000)"
            ]
          },
          "metadata": {},
          "execution_count": 51
        }
      ]
    },
    {
      "cell_type": "code",
      "source": [
        "model.evaluate(test_data, test_labels)"
      ],
      "metadata": {
        "colab": {
          "base_uri": "https://localhost:8080/"
        },
        "id": "Pgh5sqjJOOVI",
        "outputId": "21e8ee1c-3f5c-4fc2-bebe-7fea743dda97"
      },
      "execution_count": 52,
      "outputs": [
        {
          "output_type": "stream",
          "name": "stdout",
          "text": [
            "4/4 [==============================] - 0s 27ms/step - loss: 8.1020 - accuracy: 0.2764\n"
          ]
        },
        {
          "output_type": "execute_result",
          "data": {
            "text/plain": [
              "[8.101984024047852, 0.27642276883125305]"
            ]
          },
          "metadata": {},
          "execution_count": 52
        }
      ]
    },
    {
      "cell_type": "code",
      "source": [
        "pred=model.predict(test_data).argmax(axis=1)"
      ],
      "metadata": {
        "colab": {
          "base_uri": "https://localhost:8080/"
        },
        "id": "ZJjAEKcsOjda",
        "outputId": "89cb4c6e-9dca-4968-e8fd-e7a41a864d80"
      },
      "execution_count": 54,
      "outputs": [
        {
          "output_type": "stream",
          "name": "stdout",
          "text": [
            "4/4 [==============================] - 0s 26ms/step\n"
          ]
        }
      ]
    },
    {
      "cell_type": "code",
      "source": [
        "[label2category[p] for p in pred]"
      ],
      "metadata": {
        "colab": {
          "base_uri": "https://localhost:8080/"
        },
        "id": "EMDgcVaGOukg",
        "outputId": "14a08adf-f8ee-4a79-b0d7-5548c7e3c262"
      },
      "execution_count": 55,
      "outputs": [
        {
          "output_type": "execute_result",
          "data": {
            "text/plain": [
              "['Bulbasaur',\n",
              " 'Bulbasaur',\n",
              " 'Bulbasaur',\n",
              " 'Bulbasaur',\n",
              " 'Bulbasaur',\n",
              " 'Bulbasaur',\n",
              " 'Bulbasaur',\n",
              " 'Bulbasaur',\n",
              " 'Bulbasaur',\n",
              " 'Bulbasaur',\n",
              " 'Bulbasaur',\n",
              " 'Bulbasaur',\n",
              " 'Pikachu',\n",
              " 'Bulbasaur',\n",
              " 'Bulbasaur',\n",
              " 'Bulbasaur',\n",
              " 'Bulbasaur',\n",
              " 'Pikachu',\n",
              " 'Bulbasaur',\n",
              " 'Bulbasaur',\n",
              " 'Pikachu',\n",
              " 'Bulbasaur',\n",
              " 'Bulbasaur',\n",
              " 'Bulbasaur',\n",
              " 'Pikachu',\n",
              " 'Pikachu',\n",
              " 'Bulbasaur',\n",
              " 'Bulbasaur',\n",
              " 'Pikachu',\n",
              " 'Bulbasaur',\n",
              " 'Pikachu',\n",
              " 'Pikachu',\n",
              " 'Bulbasaur',\n",
              " 'Pikachu',\n",
              " 'Bulbasaur',\n",
              " 'Pikachu',\n",
              " 'Bulbasaur',\n",
              " 'Bulbasaur',\n",
              " 'Bulbasaur',\n",
              " 'Pikachu',\n",
              " 'Charmander',\n",
              " 'Bulbasaur',\n",
              " 'Bulbasaur',\n",
              " 'Bulbasaur',\n",
              " 'Bulbasaur',\n",
              " 'Bulbasaur',\n",
              " 'Bulbasaur',\n",
              " 'Pikachu',\n",
              " 'Pikachu',\n",
              " 'Bulbasaur',\n",
              " 'Bulbasaur',\n",
              " 'Charmander',\n",
              " 'Bulbasaur',\n",
              " 'Bulbasaur',\n",
              " 'Bulbasaur',\n",
              " 'Bulbasaur',\n",
              " 'Bulbasaur',\n",
              " 'Bulbasaur',\n",
              " 'Bulbasaur',\n",
              " 'Bulbasaur',\n",
              " 'Bulbasaur',\n",
              " 'Bulbasaur',\n",
              " 'Bulbasaur',\n",
              " 'Bulbasaur',\n",
              " 'Bulbasaur',\n",
              " 'Bulbasaur',\n",
              " 'Pikachu',\n",
              " 'Bulbasaur',\n",
              " 'Bulbasaur',\n",
              " 'Bulbasaur',\n",
              " 'Bulbasaur',\n",
              " 'Bulbasaur',\n",
              " 'Bulbasaur',\n",
              " 'Bulbasaur',\n",
              " 'Pikachu',\n",
              " 'Bulbasaur',\n",
              " 'Bulbasaur',\n",
              " 'Bulbasaur',\n",
              " 'Bulbasaur',\n",
              " 'Bulbasaur',\n",
              " 'Bulbasaur',\n",
              " 'Bulbasaur',\n",
              " 'Bulbasaur',\n",
              " 'Pikachu',\n",
              " 'Bulbasaur',\n",
              " 'Bulbasaur',\n",
              " 'Bulbasaur',\n",
              " 'Bulbasaur',\n",
              " 'Bulbasaur',\n",
              " 'Bulbasaur',\n",
              " 'Bulbasaur',\n",
              " 'Bulbasaur',\n",
              " 'Pikachu',\n",
              " 'Bulbasaur',\n",
              " 'Bulbasaur',\n",
              " 'Pikachu',\n",
              " 'Bulbasaur',\n",
              " 'Bulbasaur',\n",
              " 'Bulbasaur',\n",
              " 'Bulbasaur',\n",
              " 'Bulbasaur',\n",
              " 'Pikachu',\n",
              " 'Bulbasaur',\n",
              " 'Pikachu',\n",
              " 'Bulbasaur',\n",
              " 'Pikachu',\n",
              " 'Bulbasaur',\n",
              " 'Bulbasaur',\n",
              " 'Bulbasaur',\n",
              " 'Bulbasaur',\n",
              " 'Pikachu',\n",
              " 'Pikachu',\n",
              " 'Charmander',\n",
              " 'Bulbasaur',\n",
              " 'Bulbasaur',\n",
              " 'Bulbasaur',\n",
              " 'Bulbasaur',\n",
              " 'Pikachu',\n",
              " 'Bulbasaur',\n",
              " 'Pikachu',\n",
              " 'Pikachu',\n",
              " 'Bulbasaur',\n",
              " 'Bulbasaur']"
            ]
          },
          "metadata": {},
          "execution_count": 55
        }
      ]
    },
    {
      "cell_type": "code",
      "source": [],
      "metadata": {
        "id": "kToDCdsTQZUH"
      },
      "execution_count": null,
      "outputs": []
    },
    {
      "cell_type": "code",
      "source": [
        "test_img=\"images/Test/Bulbasaur/1104.jpg\"\n",
        "img = image.load_img(test_img, target_size=(100,100))\n",
        "img = image.img_to_array( img )"
      ],
      "metadata": {
        "id": "5C7ISdhQPALT"
      },
      "execution_count": 88,
      "outputs": []
    },
    {
      "cell_type": "code",
      "source": [
        "plt.imshow(img.astype('int'));"
      ],
      "metadata": {
        "colab": {
          "base_uri": "https://localhost:8080/",
          "height": 433
        },
        "id": "1AE2A6o3Pi04",
        "outputId": "39243524-7c80-4ac1-a451-a4914e7fcda0"
      },
      "execution_count": 89,
      "outputs": [
        {
          "output_type": "display_data",
          "data": {
            "text/plain": [
              "<Figure size 640x480 with 1 Axes>"
            ],
            "image/png": "[encoded data removed]"
          },
          "metadata": {}
        }
      ]
    },
    {
      "cell_type": "code",
      "source": [
        "img = img.reshape(1,30000)\n",
        "img.shape"
      ],
      "metadata": {
        "colab": {
          "base_uri": "https://localhost:8080/"
        },
        "id": "eRgLzJzbPsqM",
        "outputId": "5ea8580a-4028-4cdc-d11c-5f1248cff28b"
      },
      "execution_count": 90,
      "outputs": [
        {
          "output_type": "execute_result",
          "data": {
            "text/plain": [
              "(1, 30000)"
            ]
          },
          "metadata": {},
          "execution_count": 90
        }
      ]
    },
    {
      "cell_type": "code",
      "source": [
        "pred=label2category[model.predict(img).argmax()]\n",
        "pred"
      ],
      "metadata": {
        "colab": {
          "base_uri": "https://localhost:8080/",
          "height": 53
        },
        "id": "4LDLGXCxP8E9",
        "outputId": "057493d0-28b1-4f94-829b-e61d045c42dd"
      },
      "execution_count": 133,
      "outputs": [
        {
          "output_type": "stream",
          "name": "stdout",
          "text": [
            "1/1 [==============================] - 0s 87ms/step\n"
          ]
        },
        {
          "output_type": "execute_result",
          "data": {
            "text/plain": [
              "'Bulbasaur'"
            ],
            "application/vnd.google.colaboratory.intrinsic+json": {
              "type": "string"
            }
          },
          "metadata": {},
          "execution_count": 133
        }
      ]
    }
  ]
}